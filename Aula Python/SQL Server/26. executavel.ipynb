{
 "cells": [
  {
   "cell_type": "code",
   "execution_count": null,
   "metadata": {
    "vscode": {
     "languageId": "plaintext"
    }
   },
   "outputs": [],
   "source": [
    "PASSO A PASSO:\n",
    "\n",
    "- Instale:\n",
    "pip install pyinstaller                      # - caso nao tenha instalado \n",
    "pip install --upgrade pyinstaller            #instalar com upgrade atualização\n",
    "\n",
    "*Em caso de erros\n",
    "pip install --trusted-host pypi.org --trusted-host files.pythonhosted.org pyinstaller   -- se der erro ssl\n",
    "\n",
    "- Vá no arquivo que deseja tornar executável e com o segundo botão do mouse, selecione \"import notebook to script\"\n",
    "\n",
    "- Execute no terminal o comando abaixo (onde entre aspas \"é o caminho do seu arquivo py\")\n",
    "*Modo oculto no windows (noconsole) adicionar isso antes do nome do arquivo\n",
    "\n",
    "pyinstaller --onefile --noconsole \"C:\\Users\\TERRA\\JAVA\\dio-java-basico\\udemy1\\Aula Python\\Py_executaveis\\TESTE_ARQUIVO_EXECUTAVEL.py\"\n",
    "\n",
    "*forçar inclusao do openpyxl, caso gere um erro ou outras bibilotecas\n",
    "pyinstaller --onefile --noconsole --hidden-import openpyxl \"C:\\Users\\TERRA\\JAVA\\dio-java-basico\\udemy1\\Aula Python\\Py_executaveis\\TESTE_ARQUIVO_EXECUTAVEL.py\"\n",
    "\n",
    "\n",
    "> O arquivo exe será criado em uma pasta DIST\n",
    "\n",
    "\n",
    "\n",
    "\n",
    "inserir via interface grafica\n",
    "pip install auto-py-to-exe\n",
    "pip install -U auto-py-to-exe  -  inserir para upgrade\n",
    "auto-py-to-exe   - digitar no prompt comando\n"
   ]
  }
 ],
 "metadata": {
  "kernelspec": {
   "display_name": "Python 3",
   "language": "python",
   "name": "python3"
  },
  "language_info": {
   "codemirror_mode": {
    "name": "ipython",
    "version": 3
   },
   "file_extension": ".py",
   "mimetype": "text/x-python",
   "name": "python",
   "nbconvert_exporter": "python",
   "pygments_lexer": "ipython3",
   "version": "3.11.4"
  },
  "orig_nbformat": 4
 },
 "nbformat": 4,
 "nbformat_minor": 2
}
