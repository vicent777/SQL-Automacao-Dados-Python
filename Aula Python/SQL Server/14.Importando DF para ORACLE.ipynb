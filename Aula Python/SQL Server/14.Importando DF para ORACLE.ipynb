{
 "cells": [
  {
   "cell_type": "markdown",
   "metadata": {},
   "source": [
    "# Exemplo ORACLE DB"
   ]
  },
  {
   "cell_type": "code",
   "execution_count": null,
   "metadata": {},
   "outputs": [],
   "source": [
    "import oracledb\n",
    "import configparser\n",
    "import pandas as pd\n",
    "\n",
    "# Carregar configurações do arquivo configterra.ini\n",
    "config = configparser.ConfigParser()\n",
    "config.read('configcta.ini')\n",
    "\n",
    "# Verifica se o arquivo.ini carregou corretamente\n",
    "if not config.sections():\n",
    "    print(\"Erro: arquivo configcta.ini não encontrado ou vazio\")\n",
    "    exit()\n",
    "\n",
    "user = config['database']['user']\n",
    "password = config['database']['password']\n",
    "dsn = config['database']['dsn']\n",
    "\n",
    "# Inicializando o Oracle Client (caso necessário)\n",
    "oracledb.init_oracle_client(lib_dir=r\"C:/instantclient_23_6\")\n",
    "\n",
    "# Conectar ao banco de dados Oracle\n",
    "connection = oracledb.connect(user=user, password=password, dsn=dsn)"
   ]
  },
  {
   "cell_type": "markdown",
   "metadata": {},
   "source": [
    "# Após a conexão com o banco, importar os dados desejados"
   ]
  },
  {
   "cell_type": "code",
   "execution_count": null,
   "metadata": {},
   "outputs": [],
   "source": [
    "# Criar um cursor para executar consultas\n",
    "cursor = connection.cursor()\n",
    "\n",
    "# Carregar dados do arquivo Excel\n",
    "dados = pd.read_excel(r\"K:\\Python\\Arquivos\\Origem\\arquivos_excel\\Produto.xlsx\")\n",
    "\n",
    "# Iterar sobre as linhas do DataFrame e inserir os dados na tabela Oracle\n",
    "for index, linha in dados.iterrows():\n",
    "    cursor.execute(\n",
    "        \"INSERT INTO Produtos (ID, Nome, Price, Id_Category) VALUES (:1, :2, :3, :4)\",\n",
    "        (linha['ID'], linha['Nome'], linha['Price'], linha['Id_Category'])\n",
    "    )\n",
    "\n",
    "# Commit para validar as inserções\n",
    "connection.commit()\n",
    "\n",
    "# Fechar o cursor e a conexão\n",
    "cursor.close()\n",
    "connection.close()\n",
    "\n",
    "print(\"Dados inseridos com sucesso no Oracle DB.\")\n"
   ]
  },
  {
   "cell_type": "markdown",
   "metadata": {},
   "source": [
    "#  O executemany() permite inserir múltiplas linhas de uma vez, melhorando o desempenho em comparação com a execução do execute() linha por linha."
   ]
  },
  {
   "cell_type": "code",
   "execution_count": null,
   "metadata": {},
   "outputs": [],
   "source": [
    "# Inserção para um grande volume de dados\n",
    "cursor.executemany(\n",
    "    \"INSERT INTO Produtos (ID, Nome, Price, Id_Category) VALUES (:1, :2, :3, :4)\",\n",
    "    [(linha['ID'], linha['Nome'], linha['Price'], linha['Id_Category']) for _, linha in dados.iterrows()]\n",
    ")"
   ]
  }
 ],
 "metadata": {
  "kernelspec": {
   "display_name": "Python 3",
   "language": "python",
   "name": "python3"
  },
  "language_info": {
   "codemirror_mode": {
    "name": "ipython",
    "version": 3
   },
   "file_extension": ".py",
   "mimetype": "text/x-python",
   "name": "python",
   "nbconvert_exporter": "python",
   "pygments_lexer": "ipython3",
   "version": "3.13.2"
  },
  "vscode": {
   "interpreter": {
    "hash": "c347c8f9a7ef94e4c9e03b4513be7835ed18f45b99a2a817fb579f408b867b16"
   }
  }
 },
 "nbformat": 4,
 "nbformat_minor": 4
}
