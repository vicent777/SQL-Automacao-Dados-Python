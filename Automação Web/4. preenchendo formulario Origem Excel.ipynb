{
 "cells": [
  {
   "cell_type": "markdown",
   "metadata": {},
   "source": [
    "https://forms.gle/sG2dD6N6cgGyqKso7"
   ]
  },
  {
   "cell_type": "code",
   "execution_count": null,
   "metadata": {},
   "outputs": [],
   "source": [
    "\n",
    "from selenium import webdriver\n",
    "import chromedriver_autoinstaller\n",
    "from selenium.webdriver.common.by import By \n",
    "from time import sleep\n",
    "from selenium.webdriver.common.keys import Keys\n",
    "\n",
    "# Instalação automática do ChromeDriver (comunicação entre cod e navegador)\n",
    "chromedriver_autoinstaller.install()"
   ]
  },
  {
   "cell_type": "code",
   "execution_count": 2,
   "metadata": {},
   "outputs": [],
   "source": [
    "# Inicializar o navegador Chrome\n",
    "navegador = webdriver.Chrome()\n",
    "Link = \"https://forms.gle/sG2dD6N6cgGyqKso7\"\n",
    "navegador.get(Link)"
   ]
  },
  {
   "cell_type": "code",
   "execution_count": 3,
   "metadata": {},
   "outputs": [
    {
     "data": {
      "text/html": [
       "<div>\n",
       "<style scoped>\n",
       "    .dataframe tbody tr th:only-of-type {\n",
       "        vertical-align: middle;\n",
       "    }\n",
       "\n",
       "    .dataframe tbody tr th {\n",
       "        vertical-align: top;\n",
       "    }\n",
       "\n",
       "    .dataframe thead th {\n",
       "        text-align: right;\n",
       "    }\n",
       "</style>\n",
       "<table border=\"1\" class=\"dataframe\">\n",
       "  <thead>\n",
       "    <tr style=\"text-align: right;\">\n",
       "      <th></th>\n",
       "      <th>Nome</th>\n",
       "      <th>Sobrenome</th>\n",
       "      <th>email</th>\n",
       "      <th>Celular</th>\n",
       "      <th>Estado</th>\n",
       "      <th>Rua</th>\n",
       "      <th>numero</th>\n",
       "      <th>additionals</th>\n",
       "    </tr>\n",
       "  </thead>\n",
       "  <tbody>\n",
       "    <tr>\n",
       "      <th>0</th>\n",
       "      <td>Marta</td>\n",
       "      <td>Jesus</td>\n",
       "      <td>NaN</td>\n",
       "      <td>9 9102-7834</td>\n",
       "      <td>Acre</td>\n",
       "      <td>NaN</td>\n",
       "      <td>NaN</td>\n",
       "      <td>Conjunto 16</td>\n",
       "    </tr>\n",
       "    <tr>\n",
       "      <th>1</th>\n",
       "      <td>Luana</td>\n",
       "      <td>Almeida</td>\n",
       "      <td>NaN</td>\n",
       "      <td>9 7328-8718</td>\n",
       "      <td>Rio Grande do Sul</td>\n",
       "      <td>Avenida 56 do Estado Rio Grande do Sul</td>\n",
       "      <td>989.0</td>\n",
       "      <td>Conjunto 17</td>\n",
       "    </tr>\n",
       "    <tr>\n",
       "      <th>2</th>\n",
       "      <td>Frida</td>\n",
       "      <td>Mendes</td>\n",
       "      <td>frida@meu_email.com</td>\n",
       "      <td>9 5906-7552</td>\n",
       "      <td>São Paulo</td>\n",
       "      <td>Avenida 59 do Estado São Paulo</td>\n",
       "      <td>534.0</td>\n",
       "      <td>NaN</td>\n",
       "    </tr>\n",
       "    <tr>\n",
       "      <th>3</th>\n",
       "      <td>Daniela</td>\n",
       "      <td>Avelino</td>\n",
       "      <td>daniela@exemplo.com</td>\n",
       "      <td>9 4642-9486</td>\n",
       "      <td>Mato Grosso</td>\n",
       "      <td>NaN</td>\n",
       "      <td>NaN</td>\n",
       "      <td>NaN</td>\n",
       "    </tr>\n",
       "    <tr>\n",
       "      <th>4</th>\n",
       "      <td>Romário</td>\n",
       "      <td>Teixeira</td>\n",
       "      <td>NaN</td>\n",
       "      <td>9 3093-6522</td>\n",
       "      <td>Bahia</td>\n",
       "      <td>Praça 56 do Estado Bahia</td>\n",
       "      <td>191.0</td>\n",
       "      <td>Apto 12</td>\n",
       "    </tr>\n",
       "  </tbody>\n",
       "</table>\n",
       "</div>"
      ],
      "text/plain": [
       "      Nome Sobrenome                email      Celular             Estado  \\\n",
       "0    Marta     Jesus                  NaN  9 9102-7834               Acre   \n",
       "1    Luana   Almeida                  NaN  9 7328-8718  Rio Grande do Sul   \n",
       "2    Frida    Mendes  frida@meu_email.com  9 5906-7552          São Paulo   \n",
       "3  Daniela   Avelino  daniela@exemplo.com  9 4642-9486        Mato Grosso   \n",
       "4  Romário  Teixeira                  NaN  9 3093-6522              Bahia   \n",
       "\n",
       "                                      Rua  numero  additionals  \n",
       "0                                     NaN     NaN  Conjunto 16  \n",
       "1  Avenida 56 do Estado Rio Grande do Sul   989.0  Conjunto 17  \n",
       "2          Avenida 59 do Estado São Paulo   534.0          NaN  \n",
       "3                                     NaN     NaN          NaN  \n",
       "4                Praça 56 do Estado Bahia   191.0      Apto 12  "
      ]
     },
     "execution_count": 3,
     "metadata": {},
     "output_type": "execute_result"
    }
   ],
   "source": [
    "import pandas as pd\n",
    "Clientes = pd.read_excel(r\"C:\\Users\\TERRA\\JAVA\\dio-java-basico\\udemy1\\Origem\\Web\\Clientes.xlsx\")\n",
    "Clientes.head(5)"
   ]
  },
  {
   "cell_type": "code",
   "execution_count": 4,
   "metadata": {},
   "outputs": [],
   "source": [
    "\n",
    "for index, row in Clientes.iterrows():  #index = indice identifica cada linha do nosso DF row = linha de cada passo \n",
    "    NomeOrigem =        row['Nome']\n",
    "    SobrenomeOrigem =   row['Sobrenome']\n",
    "    emailOrigem =       row['email']\n",
    "    CelularOrigem =     row['Celular']\n",
    "    EstadoOrigem =      row['Estado']\n",
    "    RuaOrigem =         row['Rua']\n",
    "    numeroOrigem =      row['numero']\n",
    "    additionalsOrigem = row['additionals']\n",
    "    \n",
    "    # Prenchimento automatico\n",
    "    \n",
    "    sleep(3)\n",
    "    nome =      navegador.find_element(by= By.XPATH,value='//*[@id=\"mG61Hd\"]/div[2]/div/div[2]/div[1]/div/div/div[2]/div/div[1]/div/div[1]/input').send_keys(NomeOrigem)\n",
    "    Sobrenome=  navegador.find_element(by= By.XPATH,value='//*[@id=\"mG61Hd\"]/div[2]/div/div[2]/div[2]/div/div/div[2]/div/div[1]/div/div[1]/input').send_keys(SobrenomeOrigem)\n",
    "    Email=      navegador.find_element(by= By.XPATH,value='//*[@id=\"mG61Hd\"]/div[2]/div/div[2]/div[3]/div/div/div[2]/div/div[1]/div/div[1]/input').send_keys(emailOrigem)\n",
    "    Celular=    navegador.find_element(by= By.XPATH,value='//*[@id=\"mG61Hd\"]/div[2]/div/div[2]/div[4]/div/div/div[2]/div/div[1]/div/div[1]/input').send_keys(CelularOrigem)\n",
    "    Estado=     navegador.find_element(by= By.XPATH,value='//*[@id=\"mG61Hd\"]/div[2]/div/div[2]/div[5]/div/div/div[2]/div/div[1]/div/div[1]/input').send_keys(EstadoOrigem)\n",
    "    Rua=        navegador.find_element(by= By.XPATH,value='//*[@id=\"mG61Hd\"]/div[2]/div/div[2]/div[6]/div/div/div[2]/div/div[1]/div/div[1]/input').send_keys(RuaOrigem)\n",
    "    numero=     navegador.find_element(by= By.XPATH,value='//*[@id=\"mG61Hd\"]/div[2]/div/div[2]/div[7]/div/div/div[2]/div/div[1]/div/div[1]/input').send_keys(str(numeroOrigem))\n",
    "    Adicional=  navegador.find_element(by= By.XPATH,value='//*[@id=\"mG61Hd\"]/div[2]/div/div[2]/div[8]/div/div/div[2]/div/div[1]/div/div[1]/input').send_keys(additionalsOrigem)\n",
    "    Enviar =    navegador.find_element(by= By.XPATH,value='//*[@id=\"mG61Hd\"]/div[2]/div/div[3]/div[1]/div[1]/div/span/span').click()\n",
    "    sleep(2)\n",
    "    navegador.get(Link)\n",
    "navegador.quit()\n",
    "    \n",
    "    \n"
   ]
  },
  {
   "cell_type": "code",
   "execution_count": null,
   "metadata": {},
   "outputs": [],
   "source": []
  }
 ],
 "metadata": {
  "kernelspec": {
   "display_name": "Python 3",
   "language": "python",
   "name": "python3"
  },
  "language_info": {
   "codemirror_mode": {
    "name": "ipython",
    "version": 3
   },
   "file_extension": ".py",
   "mimetype": "text/x-python",
   "name": "python",
   "nbconvert_exporter": "python",
   "pygments_lexer": "ipython3",
   "version": "3.13.2"
  },
  "orig_nbformat": 4
 },
 "nbformat": 4,
 "nbformat_minor": 2
}
