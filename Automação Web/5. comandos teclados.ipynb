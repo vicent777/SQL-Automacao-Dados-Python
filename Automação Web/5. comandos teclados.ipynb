{
 "cells": [
  {
   "cell_type": "markdown",
   "metadata": {},
   "source": [
    "https://forms.gle/Qh3AzrNZTYrRYWQ79"
   ]
  },
  {
   "cell_type": "code",
   "execution_count": null,
   "metadata": {},
   "outputs": [],
   "source": [
    "\n",
    "from selenium import webdriver\n",
    "import chromedriver_autoinstaller\n",
    "from selenium.webdriver.common.by import By \n",
    "from time import sleep\n",
    "from selenium.webdriver.common.keys import Keys\n",
    "chromedriver_autoinstaller.install()# Instalação automática do ChromeDriver (commicação entre cod e navegador)\n",
    "\n",
    "\n",
    "from selenium.webdriver.common.action_chains import ActionChains # acoes de teclados no navegador\n",
    "import time                                                      # data e Hora\n",
    "from datetime import datetime, timedelta                         # calculo de diferença (data anterior)"
   ]
  },
  {
   "cell_type": "code",
   "execution_count": null,
   "metadata": {},
   "outputs": [],
   "source": [
    "# Inicializar o navegador Chrome\n",
    "navegador = webdriver.Chrome()\n",
    "Link = \"https://forms.gle/Qh3AzrNZTYrRYWQ79\"\n",
    "navegador.get(Link)"
   ]
  },
  {
   "cell_type": "code",
   "execution_count": null,
   "metadata": {},
   "outputs": [],
   "source": [
    "sleep(2)\n",
    "filtro1 =navegador.find_element(by=By.XPATH,value='//*[@id=\"i5\"]/div[3]/div').click()"
   ]
  },
  {
   "cell_type": "code",
   "execution_count": null,
   "metadata": {},
   "outputs": [],
   "source": [
    "acao=ActionChains(navegador)  # ativa ações"
   ]
  },
  {
   "cell_type": "code",
   "execution_count": null,
   "metadata": {},
   "outputs": [],
   "source": [
    "\n",
    "for x in range(2):\n",
    "    acao.send_keys(Keys.ARROW_DOWN).perform()\n"
   ]
  },
  {
   "cell_type": "code",
   "execution_count": null,
   "metadata": {},
   "outputs": [],
   "source": [
    "filtro2= navegador.find_element(by=By.XPATH,value='//*[@id=\"mG61Hd\"]/div[2]/div/div[2]/div[2]/div/div/div[2]/div[1]/div[1]/label/div/div[2]/div/span').click()"
   ]
  },
  {
   "cell_type": "code",
   "execution_count": null,
   "metadata": {},
   "outputs": [],
   "source": [
    "for y in range(3):\n",
    "    acao.send_keys(Keys.TAB).perform()\n",
    "    \n",
    "acao.send_keys(Keys.SPACE).perform()\n",
    "\n",
    "acao.send_keys(Keys.TAB).perform()\n",
    "acao.send_keys(Keys.SPACE).perform()\n"
   ]
  },
  {
   "cell_type": "code",
   "execution_count": null,
   "metadata": {},
   "outputs": [],
   "source": [
    "\n",
    "\n",
    "DTatualcompleto = datetime.now() #formato Americado banco de dados\n",
    "print(DTatualcompleto)"
   ]
  },
  {
   "cell_type": "code",
   "execution_count": null,
   "metadata": {},
   "outputs": [],
   "source": [
    "\n",
    "DataAtualamericado = datetime.now().strftime(\"%Y-%m-%d\") # somente a data Americado banco de dados\n",
    "print(DataAtualamericado)"
   ]
  },
  {
   "cell_type": "code",
   "execution_count": null,
   "metadata": {},
   "outputs": [],
   "source": [
    "DataAtualPT = datetime.now().strftime(\"%d/%m/%Y\") # data atual\n",
    "print(DataAtualPT) "
   ]
  },
  {
   "cell_type": "code",
   "execution_count": null,
   "metadata": {},
   "outputs": [],
   "source": [
    "Dtfim=datetime.now().strftime(\"%d/%m/%Y\")\n",
    "Dtinicio=(datetime.now() - timedelta(days=60)).strftime(\"%d/%m/%Y\") #Dtatual-60 dias \n",
    "print(Dtfim)\n",
    "print(Dtinicio)"
   ]
  },
  {
   "cell_type": "code",
   "execution_count": null,
   "metadata": {},
   "outputs": [],
   "source": [
    "datainicioformulario= navegador.find_element(by=By.XPATH,value='//*[@id=\"mG61Hd\"]/div[2]/div/div[2]/div[3]/div/div/div[2]/div/div[1]/div/div[1]/input')\n",
    "datainicioformulario.send_keys(Dtinicio)"
   ]
  },
  {
   "cell_type": "code",
   "execution_count": null,
   "metadata": {},
   "outputs": [],
   "source": [
    "dtfinalform=navegador.find_element(by=By.XPATH,value='//*[@id=\"mG61Hd\"]/div[2]/div/div[2]/div[4]/div/div/div[2]/div/div[1]/div/div[1]/input')\n",
    "dtfinalform.send_keys(Dtfim)"
   ]
  },
  {
   "cell_type": "code",
   "execution_count": null,
   "metadata": {},
   "outputs": [],
   "source": [
    "op=navegador.find_element(by=By.XPATH,value='//*[@id=\"mG61Hd\"]/div[2]/div/div[2]/div[5]/div/div/div[2]/div/div[1]/div/div[2]/label[1]').click()\n"
   ]
  },
  {
   "cell_type": "code",
   "execution_count": null,
   "metadata": {},
   "outputs": [],
   "source": [
    "acao.send_keys(Keys.SPACE).perform()\n",
    "acao.send_keys(Keys.TAB).perform()\n",
    "acao.send_keys(Keys.TAB).perform()\n",
    "acao.send_keys(Keys.SPACE).perform()"
   ]
  },
  {
   "cell_type": "code",
   "execution_count": null,
   "metadata": {},
   "outputs": [],
   "source": [
    "for optab in range(5):\n",
    "    acao.send_keys(Keys.TAB).perform()\n",
    "acao.send_keys(Keys.SPACE).perform()"
   ]
  },
  {
   "cell_type": "code",
   "execution_count": null,
   "metadata": {},
   "outputs": [],
   "source": [
    "for optabn in range(7):\n",
    "    acao.send_keys(Keys.TAB).perform()\n",
    "acao.send_keys(Keys.SPACE).perform()"
   ]
  },
  {
   "cell_type": "code",
   "execution_count": null,
   "metadata": {},
   "outputs": [],
   "source": [
    "op4= navegador.find_element(by=By.XPATH,value='//*[@id=\"mG61Hd\"]/div[2]/div/div[2]/div[6]/div/div/div[2]/div/div[1]/div[1]/div[1]/span').click()\n",
    "sleep(3)\n",
    "for cv in range(3):\n",
    "    acao.send_keys(Keys.ARROW_DOWN).perform()\n",
    "\n",
    "sleep(2)\n",
    "acao.send_keys(Keys.ENTER).perform()\n"
   ]
  },
  {
   "cell_type": "code",
   "execution_count": null,
   "metadata": {},
   "outputs": [],
   "source": [
    "# Mudar para a nova guia\n",
    "navegador.switch_to.window(navegador.window_handles[-1])"
   ]
  }
 ],
 "metadata": {
  "kernelspec": {
   "display_name": "Python 3",
   "language": "python",
   "name": "python3"
  },
  "language_info": {
   "codemirror_mode": {
    "name": "ipython",
    "version": 3
   },
   "file_extension": ".py",
   "mimetype": "text/x-python",
   "name": "python",
   "nbconvert_exporter": "python",
   "pygments_lexer": "ipython3",
   "version": "3.11.4"
  },
  "orig_nbformat": 4
 },
 "nbformat": 4,
 "nbformat_minor": 2
}
