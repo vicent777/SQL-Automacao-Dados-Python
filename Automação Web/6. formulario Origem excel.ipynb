{
 "cells": [
  {
   "cell_type": "markdown",
   "metadata": {},
   "source": [
    "https://selenium-python.readthedocs.io/index.html"
   ]
  },
  {
   "cell_type": "code",
   "execution_count": null,
   "metadata": {},
   "outputs": [],
   "source": [
    "\n",
    "from selenium import webdriver\n",
    "import chromedriver_autoinstaller\n",
    "\n",
    "from selenium.webdriver.common.by import By \n",
    "from time import sleep\n",
    "from selenium.webdriver.common.keys import Keys\n",
    "\n",
    "# Instalação automática do ChromeDriver (commicação entre cod e navegador)\n",
    "chromedriver_autoinstaller.install()\n",
    "\n",
    "# Inicializar o navegador Chrome\n",
    "navegador = webdriver.Chrome()\n"
   ]
  },
  {
   "cell_type": "code",
   "execution_count": null,
   "metadata": {},
   "outputs": [],
   "source": [
    "# Exemplo: abrindo paginas Web\n",
    "Link = \"https://forms.gle/sG2dD6N6cgGyqKso7\"\n",
    "navegador.get(Link)\n",
    "nome = navegador.find_element(by= By.XPATH,value='//*[@id=\"mG61Hd\"]/div[2]/div/div[2]/div[1]/div/div/div[2]/div/div[1]/div/div[1]/input').send_keys(\"edmilson\")\n",
    "sobrenome = navegador.find_element(by= By.XPATH,value='//*[@id=\"mG61Hd\"]/div[2]/div/div[2]/div[2]/div/div/div[2]/div/div[1]/div/div[1]/input').send_keys(\"Alves\")\n",
    "email = navegador.find_element(by= By.XPATH,value='//*[@id=\"mG61Hd\"]/div[2]/div/div[2]/div[3]/div/div/div[2]/div/div[1]/div/div[1]/input').send_keys(\"teste@teste\")\n",
    "Enviar=navegador.find_element(by= By.XPATH,value='//*[@id=\"mG61Hd\"]/div[2]/div/div[3]/div[1]/div[1]/div/span/span').click()\n",
    "sleep(3)\n",
    "navegador.get(Link)\n"
   ]
  },
  {
   "cell_type": "code",
   "execution_count": null,
   "metadata": {},
   "outputs": [],
   "source": [
    "import pandas as pd"
   ]
  },
  {
   "cell_type": "code",
   "execution_count": null,
   "metadata": {},
   "outputs": [],
   "source": [
    "clientes= pd.read_excel(r\"C:\\Users\\edmil\\OneDrive\\Área de Trabalho\\Python - arquivos\\Arquivos\\Origem\\Web\\Clientes.xlsx\")\n",
    "clientes.head(5)"
   ]
  },
  {
   "cell_type": "code",
   "execution_count": null,
   "metadata": {},
   "outputs": [],
   "source": [
    "# Itere pelas linhas do DataFrame\n",
    "for index, row in clientes.iterrows():  #index = indice identifica cada linha do nosso DF row = linha de cada passo \n",
    "    Nome = row['Nome']\n",
    "    Sobrenome = row['Sobrenome']\n",
    "    email = row['email']\n",
    "    numero = row['numero']\n",
    "    \n",
    "    #inserir arquivos no formulario\n",
    "    Link = \"https://forms.gle/sG2dD6N6cgGyqKso7\"\n",
    "    navegador.get(Link)\n",
    "    nome = navegador.find_element(by= By.XPATH,value='//*[@id=\"mG61Hd\"]/div[2]/div/div[2]/div[1]/div/div/div[2]/div/div[1]/div/div[1]/input').send_keys(Nome)\n",
    "    sobrenome = navegador.find_element(by= By.XPATH,value='//*[@id=\"mG61Hd\"]/div[2]/div/div[2]/div[2]/div/div/div[2]/div/div[1]/div/div[1]/input').send_keys(Sobrenome)\n",
    "    email = navegador.find_element(by= By.XPATH,value='//*[@id=\"mG61Hd\"]/div[2]/div/div[2]/div[3]/div/div/div[2]/div/div[1]/div/div[1]/input').send_keys(email)\n",
    "    numeropreencher = navegador.find_element(by= By.XPATH,value='//*[@id=\"mG61Hd\"]/div[2]/div/div[2]/div[8]/div/div/div[2]/div/div[1]/div/div[1]/input').send_keys(str(numero))\n",
    "    enviar=navegador.find_element(by= By.XPATH,value='//*[@id=\"mG61Hd\"]/div[2]/div/div[3]/div[1]/div[1]/div/span/span').click()\n",
    "    sleep(2)\n",
    "    navegador.get(Link)\n",
    "\n",
    "navegador.quit()"
   ]
  }
 ],
 "metadata": {
  "kernelspec": {
   "display_name": "Python 3",
   "language": "python",
   "name": "python3"
  },
  "language_info": {
   "codemirror_mode": {
    "name": "ipython",
    "version": 3
   },
   "file_extension": ".py",
   "mimetype": "text/x-python",
   "name": "python",
   "nbconvert_exporter": "python",
   "pygments_lexer": "ipython3",
   "version": "3.11.4"
  },
  "orig_nbformat": 4
 },
 "nbformat": 4,
 "nbformat_minor": 2
}
