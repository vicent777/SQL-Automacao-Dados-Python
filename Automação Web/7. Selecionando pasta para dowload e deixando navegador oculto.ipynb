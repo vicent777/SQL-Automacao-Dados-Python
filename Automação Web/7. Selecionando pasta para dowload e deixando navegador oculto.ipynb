{
 "cells": [
  {
   "cell_type": "code",
   "execution_count": 2,
   "metadata": {},
   "outputs": [],
   "source": [
    "\n",
    "from selenium import webdriver\n",
    "from selenium.webdriver.chrome.options import Options as ChromeOptions\n",
    "from selenium.webdriver.common.by import By\n",
    "from selenium.webdriver.common.keys import Keys\n",
    "import chromedriver_autoinstaller\n",
    "from time import sleep\n",
    "\n",
    "# Instalação automática do ChromeDriver (comunicação entre cod e navegador)\n",
    "chromedriver_autoinstaller.install()\n",
    "\n",
    "from time import sleep\n",
    "\n",
    "\n",
    "# Configurar as preferências do Chrome para salvar automaticamente os downloads na pasta de destino\n",
    "pasta_destino = r\"C:\\Users\\TERRA\\JAVA\\dio-java-basico\\udemy1\\Origem\\Download_teste\"\n",
    "\n",
    "preferencias = {\n",
    "    \"download.default_directory\": pasta_destino\n",
    "    \n",
    "}\n",
    "\n",
    "# Configurar as opções do Chrome\n",
    "options = ChromeOptions()\n",
    "options.add_experimental_option(\"prefs\", preferencias) # adicinar preferencias \n",
    "options.headless = False                               # Mostrar navegador ao executar automação headless = False   mostrar navegador headless = True Não mostrar o navegador   \n",
    "\n",
    "\n",
    "# Instanciar o navegador Chrome passando o Service e as opções\n",
    "navegador = webdriver.Chrome(options=options)\n",
    "\n",
    "# Agora o Chrome será iniciado a partir do executável do Chrome Portable e controlado pelo ChromeDriver.\n",
    "Link = \"https://rpachallenge.com/\"\n",
    "navegador.get(Link)\n",
    "\n"
   ]
  },
  {
   "cell_type": "code",
   "execution_count": 3,
   "metadata": {},
   "outputs": [],
   "source": [
    "sleep(5)\n",
    "Baixar =    navegador.find_element(by= By.XPATH,value='/html/body/app-root/div[2]/app-rpa1/div/div[1]/div[6]/a').click()"
   ]
  },
  {
   "cell_type": "code",
   "execution_count": null,
   "metadata": {},
   "outputs": [],
   "source": [
    "navegador.quit()"
   ]
  },
  {
   "cell_type": "code",
   "execution_count": null,
   "metadata": {},
   "outputs": [],
   "source": []
  }
 ],
 "metadata": {
  "kernelspec": {
   "display_name": "Python 3",
   "language": "python",
   "name": "python3"
  },
  "language_info": {
   "codemirror_mode": {
    "name": "ipython",
    "version": 3
   },
   "file_extension": ".py",
   "mimetype": "text/x-python",
   "name": "python",
   "nbconvert_exporter": "python",
   "pygments_lexer": "ipython3",
   "version": "3.13.2"
  },
  "orig_nbformat": 4
 },
 "nbformat": 4,
 "nbformat_minor": 2
}
